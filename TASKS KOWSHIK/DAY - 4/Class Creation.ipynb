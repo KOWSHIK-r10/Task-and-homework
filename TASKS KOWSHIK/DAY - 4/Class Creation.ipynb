import numpy as np
import pandas as pd
import matplotlib.pyplot as plt
from sklearn.model_selection import train_test_split
from sklearn.linear_model import LinearRegression
from sklearn.metrics import mean_squared_error

data = {'X': np.random.rand(100) * 10, 'Y': np.random.rand(100) * 50 + 10}
df = pd.DataFrame(data)
X = df[['X']]
Y = df[['Y']]

X_train, X_test, Y_train, Y_test = train_test_split(X, Y, test_size=0.2, random_state=42)

model = LinearRegression()
model.fit(X_train, Y_train)

Y_pred = model.predict(X_test)

plt.scatter(X_test, Y_test, color='blue')
plt.plot(X_test, Y_pred, color='red')
plt.show()

mse = mean_squared_error(Y_test, Y_pred)
print("Mean Squared Error:", mse)
